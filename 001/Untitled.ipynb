{
 "cells": [
  {
   "cell_type": "code",
   "execution_count": 19,
   "metadata": {},
   "outputs": [
    {
     "name": "stdout",
     "output_type": "stream",
     "text": [
      "xxxxx\n",
      "8 1\n",
      "9 1\n",
      "9 1\n",
      "9 1\n",
      "0 1\n",
      "0 1\n",
      "0 1\n",
      "1 0\n",
      "[8, 9, 9, 9, 0, 0, 0, 1]\n"
     ]
    }
   ],
   "source": [
    "class ListNode:\n",
    "    def __init__(self, val=0, next=None):\n",
    "        self.val = val\n",
    "        self.next = next\n",
    "\n",
    "class Solution:\n",
    "    def addTwoNumbers(self, l1: ListNode, l2: ListNode) -> ListNode:\n",
    "        '''\n",
    "        对两个链表按顺序相加，有进位，则加在下一个链点中\n",
    "        '''\n",
    "        result = ListNode()\n",
    "        p1 = l1\n",
    "        p2 = l2\n",
    "        r = result\n",
    "        flag = 0 #进位\n",
    "        while True:\n",
    "            if p1 != None and p2 != None:\n",
    "                r.val += p1.val + p2.val\n",
    "                p1 = p1.next\n",
    "                p2 = p2.next\n",
    "            elif p1 != None and p2 == None:\n",
    "                r.val += p1.val + flag\n",
    "                p1 = p1.next\n",
    "            elif p1 == None and p2 != None:\n",
    "                r.val += p2.val + flag\n",
    "                p2 = p2.next\n",
    "            else:\n",
    "                break\n",
    "            if r.val >= 10:\n",
    "                r.val = r.val % 10\n",
    "                flag = 1\n",
    "\n",
    "            print(r.val, flag)\n",
    "            if flag != 0 or p1 != None or p2 != None: #有进位或\n",
    "                r.next = ListNode()\n",
    "                r = r.next\n",
    "                if flag != 0:\n",
    "                    r.val = 1 #如果有进位，就将下一节点的初值设为1\n",
    "                    flag = 0\n",
    "        return result\n",
    "\n",
    "def create(arr):\n",
    "    node = ListNode()\n",
    "    n = node\n",
    "    for i in arr:\n",
    "        n.val = i\n",
    "        n.next = ListNode()\n",
    "        n = n.next\n",
    "    return node\n",
    "\n",
    "def printList(node: ListNode):\n",
    "    r = []\n",
    "    while node.next:\n",
    "        r.append(node.val)\n",
    "        node = node.next\n",
    "    r.append(node.val)\n",
    "    print(r)\n",
    "\n",
    "print('xxxxx')\n",
    "l1 = create([9,9,9,9,9,9,9])\n",
    "l2 = create([9,9,9,9])\n",
    "\n",
    "s = Solution()\n",
    "r = s.addTwoNumbers(l1,l2)\n",
    "printList(r)"
   ]
  },
  {
   "cell_type": "code",
   "execution_count": 2,
   "metadata": {},
   "outputs": [
    {
     "data": {
      "text/plain": [
       "1"
      ]
     },
     "execution_count": 2,
     "metadata": {},
     "output_type": "execute_result"
    }
   ],
   "source": [
    "(9+9)//10"
   ]
  }
 ],
 "metadata": {
  "kernelspec": {
   "display_name": "Python 3",
   "language": "python",
   "name": "python3"
  },
  "language_info": {
   "codemirror_mode": {
    "name": "ipython",
    "version": 3
   },
   "file_extension": ".py",
   "mimetype": "text/x-python",
   "name": "python",
   "nbconvert_exporter": "python",
   "pygments_lexer": "ipython3",
   "version": "3.7.0"
  }
 },
 "nbformat": 4,
 "nbformat_minor": 2
}
