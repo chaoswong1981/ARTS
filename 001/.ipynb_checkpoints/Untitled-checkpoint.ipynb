{
 "cells": [
  {
   "cell_type": "code",
   "execution_count": 7,
   "metadata": {},
   "outputs": [
    {
     "name": "stdout",
     "output_type": "stream",
     "text": [
      "xxxxx\n",
      "2\n",
      "4\n",
      "3\n",
      "7\n",
      "10\n",
      "7\n"
     ]
    }
   ],
   "source": [
    "class ListNode:\n",
    "    def __init__(self, val=0, next=None):\n",
    "        self.val = val\n",
    "        self.next = next\n",
    "\n",
    "class Solution:\n",
    "    def addTwoNumbers(self, l1: ListNode, l2: ListNode) -> ListNode:\n",
    "        '''\n",
    "        对两个链表按顺序相加，有进位，则加在下一个链点中\n",
    "        '''\n",
    "        result = ListNode()\n",
    "        p1 = l1\n",
    "        p2 = l2\n",
    "        r = result\n",
    "        flag = 0 #进位\n",
    "        while True:\n",
    "            if p1 != None and p2 != None:\n",
    "                r.val = p1.val + p2.val\n",
    "                p1 = p1.next\n",
    "                p2 = p2.next\n",
    "            elif p1 != None and p2 == None:\n",
    "                r.val = p1.val + flag\n",
    "                p1 = p1.next\n",
    "            elif p1 == None and p2 != None:\n",
    "                r.val = p2.val + flag\n",
    "                p2 = p2.next\n",
    "            else:\n",
    "                break\n",
    "            print(v.val)\n",
    "            if r.val > 10:\n",
    "                r = r.val % 10\n",
    "                flag = 1\n",
    "                \n",
    "            if flag != 0 or p1 != None or p2 != None: #有进位或\n",
    "                r.next = ListNode()\n",
    "                r = r.next\n",
    "                if flag != 0:\n",
    "                    r.val = 1 #如果有进位，就将下一节点的初值设为1\n",
    "                    flag = 0\n",
    "        return result\n",
    "\n",
    "def create(arr):\n",
    "    node = ListNode()\n",
    "    n = node\n",
    "    for i in arr:\n",
    "        n.val = i\n",
    "        n.next = ListNode()\n",
    "        n = n.next\n",
    "    return node\n",
    "\n",
    "def printList(node: ListNode):\n",
    "    while node.next:\n",
    "        print(node.val,)\n",
    "        node = node.next\n",
    "\n",
    "print('xxxxx')\n",
    "l1 = create([2,4,3])\n",
    "l2 = create([5,6,4])\n",
    "printList(l1)\n",
    "s = Solution()\n",
    "r = s.addTwoNumbers(l1,l2)\n",
    "printList(r)"
   ]
  },
  {
   "cell_type": "code",
   "execution_count": 6,
   "metadata": {},
   "outputs": [
    {
     "data": {
      "text/plain": [
       "8"
      ]
     },
     "execution_count": 6,
     "metadata": {},
     "output_type": "execute_result"
    }
   ],
   "source": [
    "(9+9) %10"
   ]
  }
 ],
 "metadata": {
  "kernelspec": {
   "display_name": "Python 3",
   "language": "python",
   "name": "python3"
  },
  "language_info": {
   "codemirror_mode": {
    "name": "ipython",
    "version": 3
   },
   "file_extension": ".py",
   "mimetype": "text/x-python",
   "name": "python",
   "nbconvert_exporter": "python",
   "pygments_lexer": "ipython3",
   "version": "3.7.0"
  }
 },
 "nbformat": 4,
 "nbformat_minor": 2
}
